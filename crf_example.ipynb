{
 "metadata": {
  "language_info": {
   "codemirror_mode": {
    "name": "ipython",
    "version": 3
   },
   "file_extension": ".py",
   "mimetype": "text/x-python",
   "name": "python",
   "nbconvert_exporter": "python",
   "pygments_lexer": "ipython3",
   "version": "3.7.4"
  },
  "orig_nbformat": 4,
  "kernelspec": {
   "name": "python3",
   "display_name": "Python 3.7.4 64-bit ('base': conda)"
  },
  "interpreter": {
   "hash": "64c2bcb79021a58637a3b19e19cae8fd5de9ac0c9bd3d925e4c39dcb834f0146"
  }
 },
 "nbformat": 4,
 "nbformat_minor": 2,
 "cells": [
  {
   "cell_type": "code",
   "execution_count": 22,
   "metadata": {},
   "outputs": [],
   "source": [
    "\n",
    "\n",
    "model_name = 'ethanyt/guwen-quote'\n",
    "\n",
    "text = '子曰学而时习之不亦说乎有朋自远方来不亦乐乎人不知而不愠不亦君子乎有子曰其为人也孝弟而好犯上者鲜矣不好犯上而好作乱者未之有也君子务本本立而道生孝弟也者其为仁之本与子曰巧言令色鲜矣仁曾子曰吾日三省吾身为人谋而不忠乎与朋友交而不信乎传不习乎子曰道千乘之国敬事而信节用而爱人使民以时'\n"
   ]
  },
  {
   "source": [
    "# 普通模型\n"
   ],
   "cell_type": "markdown",
   "metadata": {}
  },
  {
   "cell_type": "code",
   "execution_count": 23,
   "metadata": {},
   "outputs": [
    {
     "output_type": "stream",
     "name": "stderr",
     "text": [
      "Some weights of the model checkpoint at ./models/guwen-quote were not used when initializing RobertaForTokenClassification: ['crf.start_transitions', 'crf.end_transitions', 'crf.transitions']\n",
      "- This IS expected if you are initializing RobertaForTokenClassification from the checkpoint of a model trained on another task or with another architecture (e.g. initializing a BertForSequenceClassification model from a BertForPreTraining model).\n",
      "- This IS NOT expected if you are initializing RobertaForTokenClassification from the checkpoint of a model that you expect to be exactly identical (initializing a BertForSequenceClassification model from a BertForSequenceClassification model).\n",
      "[[0, 0, 0, 1, 2, 0, 2, 2, 0, 0, 2, 2, 1, 2, 0, 0, 2, 2, 0, 0, 2, 2, 0, 0, 2, 0, 0, 2, 0, 0, 0, 2, 2, 0, 0, 0, 1, 0, 0, 0, 0, 2, 0, 0, 0, 2, 0, 2, 2, 0, 0, 0, 2, 0, 0, 0, 2, 0, 0, 0, 2, 2, 0, 0, 0, 2, 0, 0, 0, 0, 2, 0, 0, 0, 0, 0, 0, 0, 0, 2, 2, 0, 0, 1, 2, 2, 2, 0, 2, 2, 0, 0, 0, 1, 0, 0, 0, 0, 2, 0, 0, 2, 0, 0, 2, 2, 0, 0, 2, 2, 0, 0, 2, 2, 0, 0, 2, 2, 0, 0, 1, 0, 2, 0, 2, 0, 2, 0, 2, 0, 2, 0, 2, 2, 0, 2, 2, 2, 0]]\n"
     ]
    }
   ],
   "source": [
    "from transformers import BertTokenizer, RobertaForTokenClassification\n",
    "\n",
    "\n",
    "tokenizer = BertTokenizer.from_pretrained(model_name)\n",
    "model = RobertaForTokenClassification.from_pretrained(model_name)\n",
    "\n",
    "tokens = tokenizer(text, return_tensors='pt')\n",
    "logits = model(**tokens).logits\n",
    "logit_result = logits.argmax(axis=2).tolist()\n",
    "print(logit_result)"
   ]
  },
  {
   "source": [
    "# CRF模型"
   ],
   "cell_type": "markdown",
   "metadata": {}
  },
  {
   "cell_type": "code",
   "execution_count": 24,
   "metadata": {},
   "outputs": [
    {
     "output_type": "stream",
     "name": "stdout",
     "text": [
      "[[0, 0, 0, 1, 2, 2, 2, 2, 2, 2, 2, 2, 2, 2, 2, 2, 2, 2, 2, 2, 2, 2, 2, 2, 2, 2, 2, 2, 2, 2, 2, 2, 2, 0, 0, 0, 1, 2, 2, 2, 2, 2, 2, 2, 2, 2, 2, 2, 2, 2, 2, 2, 2, 2, 2, 2, 2, 2, 2, 2, 2, 2, 0, 0, 0, 0, 0, 0, 0, 0, 0, 0, 0, 0, 0, 0, 0, 0, 0, 0, 0, 0, 0, 1, 2, 2, 2, 2, 2, 2, 0, 0, 0, 1, 2, 2, 2, 2, 2, 2, 2, 2, 2, 2, 2, 2, 2, 2, 2, 2, 2, 2, 2, 2, 2, 2, 2, 2, 0, 0, 1, 2, 2, 2, 2, 2, 2, 2, 2, 2, 2, 2, 2, 2, 2, 2, 2, 2, 0]]\n"
     ]
    }
   ],
   "source": [
    "from transformers import BertTokenizer\n",
    "from crf.crf_roberta import CRFRobertaForTokenClassification\n",
    "\n",
    "tokenizer = BertTokenizer.from_pretrained(model_name)\n",
    "model = CRFRobertaForTokenClassification.from_pretrained(model_name)\n",
    "\n",
    "tokens = tokenizer(text, return_tensors='pt')\n",
    "logits = model(**tokens).logits\n",
    "crf_result = model.decode(logits, mask=None)\n",
    "print(crf_result)"
   ]
  },
  {
   "source": [
    "# 贪心法\n",
    "\n",
    "将 `1 2 0 0 2 0` 转换为 `1 2 2 2 2 0`"
   ],
   "cell_type": "markdown",
   "metadata": {}
  },
  {
   "cell_type": "code",
   "execution_count": 25,
   "metadata": {},
   "outputs": [],
   "source": [
    "def greedy(logits):\n",
    "    in_span = False\n",
    "    result = []\n",
    "    for tag in reversed(logits):\n",
    "        if tag == 1:\n",
    "            in_span = False\n",
    "        if tag == 2:\n",
    "            in_span = True\n",
    "        if in_span:\n",
    "            tag = 2\n",
    "        result.append(tag)\n",
    "    result.reverse()\n",
    "    return result\n"
   ]
  },
  {
   "cell_type": "code",
   "execution_count": 26,
   "metadata": {},
   "outputs": [],
   "source": [
    "greedy_result = greedy(logits.argmax(axis=2).tolist()[0])"
   ]
  },
  {
   "source": [
    "# 可视化"
   ],
   "cell_type": "markdown",
   "metadata": {}
  },
  {
   "cell_type": "code",
   "execution_count": 27,
   "metadata": {},
   "outputs": [],
   "source": [
    "\n",
    "def visualization(tags):\n",
    "    in_span = False\n",
    "    result = []\n",
    "    for i, (tag, token) in enumerate(zip(tags, text + \" \")):\n",
    "        if tag in (0, 1) and in_span:\n",
    "            result.append(\"」\")\n",
    "            in_span = False\n",
    "        if tag == 1:\n",
    "            result.append(\"「\")\n",
    "            in_span = True\n",
    "        result.append(token)\n",
    "    print(''.join(result))"
   ]
  },
  {
   "cell_type": "code",
   "execution_count": 28,
   "metadata": {},
   "outputs": [
    {
     "output_type": "stream",
     "name": "stdout",
     "text": [
      "子曰「学而」时习之不亦说乎「有朋」自远方来不亦乐乎人不知而不愠不亦君子乎有子曰「其」为人也孝弟而好犯上者鲜矣不好犯上而好作乱者未之有也君子务本本立而道生孝弟也者其为仁之本与子曰「巧言令色」鲜矣仁曾子曰「吾」日三省吾身为人谋而不忠乎与朋友交而不信乎传不习乎子曰「道」千乘之国敬事而信节用而爱人使民以时 \n"
     ]
    }
   ],
   "source": [
    "visualization(logit_result[0][1:])"
   ]
  },
  {
   "cell_type": "code",
   "execution_count": 29,
   "metadata": {},
   "outputs": [
    {
     "output_type": "stream",
     "name": "stdout",
     "text": [
      "子曰「学而时习之不亦说乎有朋自远方来不亦乐乎人不知而不愠不亦君子乎」有子曰「其为人也孝弟而好犯上者鲜矣不好犯上而好作乱者未之有也」君子务本本立而道生孝弟也者其为仁之本与子曰「巧言令色鲜矣仁」曾子曰「吾日三省吾身为人谋而不忠乎与朋友交而不信乎传不习乎」子曰「道千乘之国敬事而信节用而爱人使民以时」 \n"
     ]
    }
   ],
   "source": [
    "visualization(crf_result[0][1:])"
   ]
  },
  {
   "cell_type": "code",
   "execution_count": 30,
   "metadata": {},
   "outputs": [
    {
     "output_type": "stream",
     "name": "stdout",
     "text": [
      "子曰「学而时习之不亦说乎」「有朋自远方来不亦乐乎人不知而不愠不亦君子乎」有子曰「其为人也孝弟而好犯上者鲜矣不好犯上而好作乱者未之有也君子务本本立而道生孝弟也者其为仁之本与」子曰「巧言令色鲜矣仁」曾子曰「吾日三省吾身为人谋而不忠乎与朋友交而不信乎传不习乎」子曰「道千乘之国敬事而信节用而爱人使民以时」 \n"
     ]
    }
   ],
   "source": [
    "visualization(greedy_result[1:])"
   ]
  }
 ]
}